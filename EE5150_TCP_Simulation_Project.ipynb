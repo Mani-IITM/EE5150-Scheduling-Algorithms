{
  "cells": [
    {
      "cell_type": "code",
      "execution_count": null,
      "metadata": {
        "id": "bFoxA0gBN4to"
      },
      "outputs": [],
      "source": [
        "import numpy as np\n",
        "import matplotlib.pyplot as plt\n",
        "import scipy \n",
        "import random as rd"
      ]
    },
    {
      "cell_type": "code",
      "execution_count": null,
      "metadata": {
        "id": "8_5RFKi5N4ts"
      },
      "outputs": [],
      "source": [
        "def combination(n,k):\n",
        "\tnum = 1\n",
        "\tden = 1\n",
        "\tfor i in range(n-k+1,n+1):\n",
        "\t\tnum *= i\n",
        "\tfor i in range(1,k+1):\n",
        "\t\tden *= i\n",
        "\treturn num/den\n",
        "\n",
        "#Finite Buffer\n",
        "alpha = 1.2 # 3, 1.5\n",
        "\n",
        "    "
      ]
    },
    {
      "cell_type": "code",
      "source": [
        "#Plotting values for 3 differrent policies\n",
        "mws_plot = [0,0,0,0,0,0]\n",
        "ps_plot = [0,0,0,0,0,0]\n",
        "wf_plot= [0,0,0,0,0,0]\n",
        "r = rd.random()\n",
        "r"
      ],
      "metadata": {
        "id": "Gi-uc_uAYqG7",
        "outputId": "d32344e3-db85-4924-ca45-625a065b6997",
        "colab": {
          "base_uri": "https://localhost:8080/"
        }
      },
      "execution_count": null,
      "outputs": [
        {
          "output_type": "execute_result",
          "data": {
            "text/plain": [
              "0.5142107614283365"
            ]
          },
          "metadata": {},
          "execution_count": 372
        }
      ]
    },
    {
      "cell_type": "code",
      "source": [
        "k = 5"
      ],
      "metadata": {
        "id": "mIkO4nN5ZM4v"
      },
      "execution_count": null,
      "outputs": []
    },
    {
      "cell_type": "code",
      "source": [
        "#k = 4"
      ],
      "metadata": {
        "id": "uy68jmRh91vd"
      },
      "execution_count": null,
      "outputs": []
    },
    {
      "cell_type": "code",
      "source": [
        "#k = 3"
      ],
      "metadata": {
        "id": "uwzWQWEM92Bu"
      },
      "execution_count": null,
      "outputs": []
    },
    {
      "cell_type": "code",
      "source": [
        "#k = 2"
      ],
      "metadata": {
        "id": "tZK73uyd92X0"
      },
      "execution_count": null,
      "outputs": []
    },
    {
      "cell_type": "code",
      "source": [
        "#k = 1"
      ],
      "metadata": {
        "id": "a8_3AAaT92wx"
      },
      "execution_count": null,
      "outputs": []
    },
    {
      "cell_type": "code",
      "source": [
        "#k = 0"
      ],
      "metadata": {
        "id": "I-gmVkqe96os"
      },
      "execution_count": null,
      "outputs": []
    },
    {
      "cell_type": "code",
      "execution_count": null,
      "metadata": {
        "id": "MesiTqAhN4tt"
      },
      "outputs": [],
      "source": [
        "# Defining Variables\n",
        "#K/R values\n",
        "k_total = 6\n",
        "\n",
        "if k ==0:\n",
        "  K = 5\n",
        "  R = 1\n",
        "if k ==1:\n",
        "  K = 20\n",
        "  R = 1\n",
        "if k ==2:\n",
        "  K = 5\n",
        "  R = 4\n",
        "if k ==3:\n",
        "  K = 20\n",
        "  R = 15\n",
        "if k ==4:\n",
        "  K = 50\n",
        "  R = 1\n",
        "if k ==5:\n",
        "  K = 50\n",
        "  R = 40\n",
        "\n",
        "KR =[[5, 1], [20, 1], [5, 4], [20, 15], [50, 1], [50, 40]]\n",
        "p = 0.4\n",
        "N = int(2*K)\n",
        "P = K/N\n",
        "T_MAX = 1001\n",
        "service_amp = 500\n",
        "\n"
      ]
    },
    {
      "cell_type": "code",
      "source": [
        "service_amp"
      ],
      "metadata": {
        "id": "9uKxPF69InHd",
        "outputId": "de92f8bd-e99f-47bf-bc14-12b6c4bef0cb",
        "colab": {
          "base_uri": "https://localhost:8080/"
        }
      },
      "execution_count": null,
      "outputs": [
        {
          "output_type": "execute_result",
          "data": {
            "text/plain": [
              "500"
            ]
          },
          "metadata": {},
          "execution_count": 520
        }
      ]
    },
    {
      "cell_type": "code",
      "source": [
        "# Buffer Size\n",
        "BS =  alpha*K*p/(1-p)**2"
      ],
      "metadata": {
        "id": "HXlEBUq7VCey"
      },
      "execution_count": null,
      "outputs": []
    },
    {
      "cell_type": "code",
      "source": [
        "ring = int(r*(N+1))"
      ],
      "metadata": {
        "id": "n2djN7XNySBP"
      },
      "execution_count": null,
      "outputs": []
    },
    {
      "cell_type": "code",
      "source": [
        "N"
      ],
      "metadata": {
        "colab": {
          "base_uri": "https://localhost:8080/"
        },
        "id": "TkAhZnRKGpS8",
        "outputId": "fee5c126-9d76-4390-a87d-a002b8c6a042"
      },
      "execution_count": null,
      "outputs": [
        {
          "output_type": "execute_result",
          "data": {
            "text/plain": [
              "100"
            ]
          },
          "metadata": {},
          "execution_count": 502
        }
      ]
    },
    {
      "cell_type": "code",
      "source": [
        "ring"
      ],
      "metadata": {
        "colab": {
          "base_uri": "https://localhost:8080/"
        },
        "id": "z1UKgQptGndG",
        "outputId": "b4184b2a-f392-42ee-a440-1a90b27c39d2"
      },
      "execution_count": null,
      "outputs": [
        {
          "output_type": "execute_result",
          "data": {
            "text/plain": [
              "51"
            ]
          },
          "metadata": {},
          "execution_count": 503
        }
      ]
    },
    {
      "cell_type": "code",
      "source": [
        "#total service\n",
        "S = service_amp*combination(N,ring)*(P**ring)*((1-P)**(N-ring))\n"
      ],
      "metadata": {
        "id": "RkA0rhVny3WD"
      },
      "execution_count": null,
      "outputs": []
    },
    {
      "cell_type": "code",
      "source": [
        "combination(N,ring)*(P**ring)*((1-P)**(N-ring))"
      ],
      "metadata": {
        "colab": {
          "base_uri": "https://localhost:8080/"
        },
        "id": "okJKNVDfGFID",
        "outputId": "d607f573-acc8-4285-bc91-4179b28581e8"
      },
      "execution_count": null,
      "outputs": [
        {
          "output_type": "execute_result",
          "data": {
            "text/plain": [
              "0.07802866410507722"
            ]
          },
          "metadata": {},
          "execution_count": 505
        }
      ]
    },
    {
      "cell_type": "code",
      "source": [
        "S"
      ],
      "metadata": {
        "colab": {
          "base_uri": "https://localhost:8080/"
        },
        "id": "L8oO2SA_F5am",
        "outputId": "fb617d9a-7564-4ab9-aa82-d9e9b963f124"
      },
      "execution_count": null,
      "outputs": [
        {
          "output_type": "execute_result",
          "data": {
            "text/plain": [
              "39.01433205253861"
            ]
          },
          "metadata": {},
          "execution_count": 506
        }
      ]
    },
    {
      "cell_type": "code",
      "source": [
        "service_util = []\n"
      ],
      "metadata": {
        "id": "J7vj24e8v1Pf"
      },
      "execution_count": null,
      "outputs": []
    },
    {
      "cell_type": "code",
      "source": [
        "#Intializing\n",
        "service = np.zeros((K))\n",
        "arrival = np.zeros((K))\n",
        "delay = np.zeros((K))\n",
        "T = np.zeros((K))\n",
        "N_i = np.zeros((K))\n",
        "Queue = []\n",
        "for i in range(K):\n",
        "\tQueue.append([])\n",
        "p_arrival = np.zeros((K))\n",
        "for i in range(0, K):\n",
        "\tif i < R:\n",
        "\t\tp_arrival[i] = p;\n",
        "\telse:\n",
        "\t\tp_arrival[i] = p;"
      ],
      "metadata": {
        "id": "7ZzOGTLHrvja"
      },
      "execution_count": null,
      "outputs": []
    },
    {
      "cell_type": "code",
      "source": [
        "# max weight scheduling\n",
        "# Idea : match max queue to max capacity\n",
        "# Sort queue based on length, capacity based on length\n",
        "\n",
        "\n",
        "def maxweightscheduling(arrival, Queue, service, p_arrival, delay, T, K, T_MAX, N, N_i, P, service_amp, service_util, S):\n",
        "  plot_p4 = []\n",
        "  ser_util = 0.0\n",
        "  for t in range(0, T_MAX):\n",
        "    #arrival\t\n",
        "    #dropped packets\n",
        "    drops = []\n",
        "    for i in range(0, K):\n",
        "      if p_arrival[i] > rd.random():\n",
        "        arrival[i] += 1\n",
        "        # Queue[i].append(t)\n",
        "        if(len(Queue[i]) <= BS):\n",
        "          Queue[i].append(t)\n",
        "        else:\n",
        "          drops.append(i)\n",
        "\n",
        "    #queue sort\n",
        "    qsi = []\n",
        "    for i in range(K):\n",
        "      qsi.append(i)\n",
        "    \n",
        "    for iter_num in range(len(qsi)-1,0,-1):\n",
        "      for idx in range(iter_num):\n",
        "        if len(Queue[qsi[idx]])<len(Queue[qsi[idx+1]]):\n",
        "          temp = qsi[idx]\n",
        "          qsi[idx] = qsi[idx+1]\n",
        "          qsi[idx+1] = temp\n",
        "\n",
        "    #service breakdown\n",
        "    temp = S\n",
        "    i = 0\n",
        "    while(temp > 0 and i < K):\n",
        "        ql = len(Queue[qsi[i]])\n",
        "        if(temp > ql):\n",
        "          service[qsi[i]] = ql\n",
        "          temp -= ql\n",
        "        else:\n",
        "          service[qsi[i]] = temp\n",
        "          temp = 0\n",
        "        ser_util += service[qsi[i]]/(S*T_MAX)\n",
        "        i += 1\n",
        "\n",
        "    # Queue & Delay\n",
        "    delta = 0.001\n",
        "    for i in range(0, K):\n",
        "      while(service[i] >= 1 and len(Queue[i]) > 0):\n",
        "        ta = Queue[i][0]\n",
        "        N_i[i] += 1\n",
        "        delay[i] = t - ta\n",
        "        T[i] = 0.9*T[i] + 0.1*delay[i]\n",
        "        Queue[i].pop(0)\n",
        "        if(i >= R):\n",
        "          if(ta < t - 1.2*T[i]):\n",
        "              p_arrival[i] = 2*p_arrival[i]/3\n",
        "          else:\n",
        "              p_arrival[i] = min(0.9, p_arrival[i] + delta)\n",
        "\n",
        "      # Finite Buffer Size\n",
        "      if i in drops:\n",
        "        if(i >= R):\n",
        "          p_arrival[i] = 2*p_arrival[i]/3\n",
        "\n",
        "      if(len(Queue[i]) > 0):\n",
        "        if(Queue[i][0] < t - 1.2*T[i]):\n",
        "          p_arrival[i] = 2*p_arrival[i]/3\n",
        "    \n",
        "    plot_p4.append(p_arrival[K-1])\n",
        "\n",
        "    #Reset Arrival and Service\n",
        "    for i in range(K):\n",
        "      arrival[i] = 0\n",
        "      service[i] = 0\n",
        "\n",
        "  service_util.append(ser_util)\n",
        "  mws_plot[k] = plot_p4"
      ],
      "metadata": {
        "id": "7DNlxjOwwfwK"
      },
      "execution_count": null,
      "outputs": []
    },
    {
      "cell_type": "code",
      "source": [
        "# processor sharing: S/K belongs to [L, L + 1), serve L packets from each of the K flows. For the remaining packets, serve once more.\n",
        "def processorsharing(arrival, Queue, service, p_arrival, delay, T, K, T_MAX, N, N_i, P, service_amp, ser_util, S):\n",
        "  plot_p4 = []\n",
        "  ser_util = 0.0\n",
        "  for t in range(0, T_MAX - 1):\n",
        "    #arrival\n",
        "    #Dropped packets\n",
        "    drops = []\n",
        "    for i in range(0, K):\n",
        "      if p_arrival[i] > rd.random():\n",
        "        arrival[i] += 1\n",
        "        Queue[i].append(t)\n",
        "        # if(len(Queue) <= BS):\n",
        "        #   Queue[i].append(t)\n",
        "        # else:\n",
        "        #   drops.append(i)\n",
        "\n",
        "    # Queue & Delay\n",
        "    # First serve L packets from each of the K flows\n",
        "    delta = 0.001\n",
        "    for i in range(0, K):\n",
        "      L = int(S/K);\n",
        "      service[i] = L\n",
        "      while(len(Queue[i]) > 0 and L > 0):\n",
        "        L -= 1\n",
        "        ta = Queue[i][0]\n",
        "        N_i[i] += 1\n",
        "        delay[i] = t - ta\n",
        "        T[i] = 0.9*T[i] + 0.1*delay[i]\n",
        "        Queue[i].pop(0)\n",
        "        if(i >= R):\n",
        "          if(ta <= t - 1.2*T[i]):\n",
        "              p_arrival[i] = 2*p_arrival[i]/3\n",
        "          else:\n",
        "              p_arrival[i] = min(0.9, p_arrival[i] + delta)\n",
        "      \n",
        "      # Finite Buffer Size\n",
        "      # if i in drops:\n",
        "      #   if(Queue[i][0] < t - 1.2*T[i] and i >= R):\n",
        "      #     p_arrival[i] = 2*p_arrival[i]/3\n",
        "      \n",
        "      if(len(Queue[i]) > 0):\n",
        "        if(Queue[i][0] <= t - 1.2*T[i]):\n",
        "          p_arrival[i] = 2*p_arrival[i]/3\n",
        "    \n",
        "    # we will have S - K*L additional service capacity left, we serve one packet\n",
        "    # from each flow\n",
        "    i = 0 # queue number\n",
        "    while(i < K):\n",
        "      service[i] += 1\n",
        "      if(len(Queue[i]) == 0):\n",
        "        i += 1\n",
        "        continue\n",
        "      ta = Queue[i][0]\n",
        "      N_i[i] += 1\n",
        "      delay[i] = t - ta\n",
        "      T[i] = 0.9*T[i] + 0.1*delay[i]\n",
        "      Queue[i].pop(0)\n",
        "      if(i >= R):\n",
        "        if(ta < t - 1.2*T[i]):\n",
        "            p_arrival[i] = 2*p_arrival[i]/3\n",
        "        else:\n",
        "            p_arrival[i] = min(0.9, p_arrival[i] + delta)\n",
        "\n",
        "      # Finite Buffer Size\n",
        "      # if i in drops:\n",
        "      #   if(Queue[i][0] < t - 1.2*T[i] and i >= R):\n",
        "      #     p_arrival[i] = 2*p_arrival[i]/3\n",
        "      \n",
        "      if(len(Queue[i]) > 0):\n",
        "        if(Queue[i][0] <= t - 1.2*T[i]):\n",
        "          p_arrival[i] = 2*p_arrival[i]/3\n",
        "      i += 1\n",
        "\n",
        "    for i in range(0, K):\n",
        "      ser_util += service[i]/(S*T_MAX)\n",
        "\n",
        "    plot_p4.append(p_arrival[K-1])\n",
        "\n",
        "    #Reset Arrival and Service\n",
        "    for i in range(K):\n",
        "      arrival[i] = 0\n",
        "      service[i] = 0\n",
        "\n",
        "  service_util.append(ser_util)\n",
        "  ps_plot[k] = plot_p4"
      ],
      "metadata": {
        "id": "ko2KvBfmzNag"
      },
      "execution_count": null,
      "outputs": []
    },
    {
      "cell_type": "code",
      "source": [
        "# waterfilling: since changing min Qi doesnt make sense, max Qi - min Qi can only changed by decreasing max Qi, \n",
        "# thus we just iteratively remove from the max length queue\n",
        "def waterfilling(arrival, Queue, service, p_arrival, delay, T, K, T_MAX, N, N_i, P, service_amp, service_util, S):\n",
        "  plot_p4 = []\n",
        "  ser_util = 0\n",
        "  for t in range(0, T_MAX - 1):\n",
        "      #arrival\n",
        "      #Dropped Packets\n",
        "      drops = []\n",
        "      for i in range(0, K):\n",
        "        if p_arrival[i] > rd.random():\n",
        "          arrival[i] += 1\n",
        "          Queue[i].append(t)\n",
        "          # if(len(Queue) <= BS):\n",
        "          #   Queue[i].append(t)\n",
        "          # else:\n",
        "          #   drops.append(i)\n",
        "\n",
        "      #total queues length\n",
        "      TQ = 0;\n",
        "      for i in range(0, K):\n",
        "        TQ += len(Queue[i])\n",
        "\n",
        "      while(S > 0 and TQ > 0):\n",
        "        #queue sort\n",
        "        qsi = []\n",
        "        for i in range(K):\n",
        "          qsi.append(i)\n",
        "        \n",
        "        for iter_num in range(len(qsi)-1,0,-1):\n",
        "          for idx in range(iter_num):\n",
        "            if len(Queue[qsi[idx]])<len(Queue[qsi[idx+1]]):\n",
        "              temp = qsi[idx]\n",
        "              qsi[idx] = qsi[idx+1]\n",
        "              qsi[idx+1] = temp\n",
        "\n",
        "        # Queue & Delay\n",
        "        # First serve L packets from each of the K flows\n",
        "        delta = 0.001\n",
        "        TQ -= 1\n",
        "        S -= 1\n",
        "        i = qsi[0]\n",
        "        service[i] += 1\n",
        "        ta = Queue[i][0]\n",
        "        N_i[i] += 1\n",
        "        delay[i] = t - ta\n",
        "        T[i] = 0.9*T[i] + 0.1*delay[i]\n",
        "        Queue[i].pop(0)\n",
        "        if(i >= R):\n",
        "          if(ta < t - 1.2*T[i]):\n",
        "              p_arrival[i] = 2*p_arrival[i]/3\n",
        "          else:\n",
        "              p_arrival[i] = min(0.9, p_arrival[i] + delta)\n",
        "        \n",
        "        # Finite Buffer Size\n",
        "        # if i in drops:\n",
        "        #   if(Queue[i][0] < t - 1.2*T[i] and i >= R):\n",
        "        #     p_arrival[i] = 2*p_arrival[i]/3\n",
        "        \n",
        "        if(len(Queue[i]) > 0):\n",
        "          if(Queue[i][0] <= t - 1.2*T[i]):\n",
        "            p_arrival[i] = 2*p_arrival[i]/3\n",
        "\n",
        "      plot_p4.append(p_arrival[K-1])\n",
        "      #Reset Arrival and Service \n",
        "      for i in range(K):\n",
        "        ser_util += service[i]/(S*T_MAX)\n",
        "        arrival[i] = 0\n",
        "        service[i] = 0\n",
        "\n",
        "  service_util.append(ser_util)\n",
        "  wf_plot[k] = plot_p4"
      ],
      "metadata": {
        "id": "NjtJVWDPIreA"
      },
      "execution_count": null,
      "outputs": []
    },
    {
      "cell_type": "code",
      "source": [
        "maxweightscheduling(arrival, Queue, service, p_arrival, delay, T, K, T_MAX, N, N_i, P, service_amp, service_util, S)"
      ],
      "metadata": {
        "id": "TcfFMfMfq8k8"
      },
      "execution_count": null,
      "outputs": []
    },
    {
      "cell_type": "code",
      "source": [
        "# Reinitializing\n",
        "service = np.zeros((K))\n",
        "arrival = np.zeros((K))\n",
        "delay = np.zeros((K))\n",
        "T = np.zeros((K))\n",
        "N_i = np.zeros((K))\n",
        "Queue = []\n",
        "for i in range(K):\n",
        "\tQueue.append([])\n",
        "p_arrival = np.zeros((K))\n",
        "for i in range(0, K):\n",
        "\tif i < R:\n",
        "\t\tp_arrival[i] = p;\n",
        "\telse:\n",
        "\t\tp_arrival[i] = p;"
      ],
      "metadata": {
        "id": "6-dNeceAq_is"
      },
      "execution_count": null,
      "outputs": []
    },
    {
      "cell_type": "code",
      "source": [
        "processorsharing(arrival, Queue, service, p_arrival, delay, T, K, T_MAX, N, N_i, P, service_amp, service_util, S)"
      ],
      "metadata": {
        "id": "q6Bd7drFq6ZU"
      },
      "execution_count": null,
      "outputs": []
    },
    {
      "cell_type": "code",
      "source": [
        "# Reinitializing\n",
        "service = np.zeros((K))\n",
        "arrival = np.zeros((K))\n",
        "delay = np.zeros((K))\n",
        "T = np.zeros((K))\n",
        "N_i = np.zeros((K))\n",
        "Queue = []\n",
        "for i in range(K):\n",
        "\tQueue.append([])\n",
        "p_arrival = np.zeros((K))\n",
        "for i in range(0, K):\n",
        "\tif i < R:\n",
        "\t\tp_arrival[i] = p;\n",
        "\telse:\n",
        "\t\tp_arrival[i] = p;"
      ],
      "metadata": {
        "id": "aypi0QozrgJL"
      },
      "execution_count": null,
      "outputs": []
    },
    {
      "cell_type": "code",
      "source": [
        "waterfilling(arrival, Queue, service, p_arrival, delay, T, K, T_MAX, N, N_i, P, service_amp, service_util, S)"
      ],
      "metadata": {
        "id": "1zC93Tcir02u"
      },
      "execution_count": null,
      "outputs": []
    },
    {
      "cell_type": "code",
      "source": [
        "service_util"
      ],
      "metadata": {
        "colab": {
          "base_uri": "https://localhost:8080/"
        },
        "id": "vxq6_Kv4vE31",
        "outputId": "fc93b88e-485a-4a0e-eb36-17e109acd95c"
      },
      "execution_count": null,
      "outputs": [
        {
          "output_type": "execute_result",
          "data": {
            "text/plain": [
              "[0.5801807552384914, 1.2803000159721416, -0.01579517891286156]"
            ]
          },
          "metadata": {},
          "execution_count": 517
        }
      ]
    },
    {
      "cell_type": "code",
      "source": [
        " #Plots for the 3 processes with different K/R values:\n",
        "\n",
        "# colors for different K/R values\n",
        "\n",
        "# MWS\n",
        "f1 = plt.figure(1)\n",
        "plt.grid()\n",
        "plt.title('Max Weight Scheduling')\n",
        "f1.set_figwidth(15)\n",
        "f1.set_figheight(10)\n",
        "\n",
        "for j in range(k_total):\n",
        "  lab = \"(\" + \"% s\" % KR[j][0]+ \",\" +  \"% s\" % KR[j][1] + \")\"\n",
        "  plt.plot(range(len(mws_plot[j])), mws_plot[j], label = lab)\n",
        "  plt.xlabel(\"Time\")\n",
        "  plt.ylabel(\"$p_{K - 1}$\")\n",
        "  plt.legend(title = \"(K, R) values\", loc = 'upper right')\n",
        "\n",
        "\n",
        "#PS\n",
        "f2 = plt.figure(2)\n",
        "plt.grid()\n",
        "plt.title('Processor Sharing')\n",
        "f2.set_figwidth(15)\n",
        "f2.set_figheight(10)\n",
        "\n",
        "for j in range(k_total):\n",
        "  lab = \"(\" + \"% s\" % KR[j][0]+ \",\" +  \"% s\" % KR[j][1] + \")\"\n",
        "  plt.plot(range(len(ps_plot[j])), ps_plot[j], label = lab)\n",
        "  plt.xlabel(\"Time\")\n",
        "  plt.ylabel(\"$p_{K - 1}$\")\n",
        "  plt.legend(title = \"(K, R) values\", loc = 'upper right')\n",
        "\n",
        "#WF\n",
        "f3 = plt.figure(3)\n",
        "plt.grid()\n",
        "plt.title('Water Filling')\n",
        "f3.set_figwidth(15)\n",
        "f3.set_figheight(10)\n",
        "\n",
        "for j in range(k_total):\n",
        "  lab = \"(\" + \"% s\" % KR[j][0]+ \",\" +  \"% s\" % KR[j][1] + \")\"\n",
        "  plt.plot(range(len(wf_plot[j])), wf_plot[j], label = lab)\n",
        "  plt.xlabel(\"Time\")\n",
        "  plt.ylabel(\"$p_{K - 1}$\")\n",
        "  plt.legend(title = \"(K, R) values\", loc = 'upper right')\n",
        "\n",
        "\n"
      ],
      "metadata": {
        "colab": {
          "base_uri": "https://localhost:8080/",
          "height": 1000
        },
        "id": "lWBlji2Xx7cs",
        "outputId": "c5f85968-77a9-4e0f-a00a-340583ef564a"
      },
      "execution_count": null,
      "outputs": [
        {
          "output_type": "display_data",
          "data": {
            "text/plain": [
              "<Figure size 1080x720 with 1 Axes>"
            ],
            "image/png": "[encoded data removed]"
          },
          "metadata": {
            "needs_background": "light"
          }
        },
        {
          "output_type": "display_data",
          "data": {
            "text/plain": [
              "<Figure size 1080x720 with 1 Axes>"
            ],
            "image/png": "[encoded data removed]"
          },
          "metadata": {
            "needs_background": "light"
          }
        },
        {
          "output_type": "display_data",
          "data": {
            "text/plain": [
              "<Figure size 1080x720 with 1 Axes>"
            ],
            "image/png": "[encoded data removed]"
          },
          "metadata": {
            "needs_background": "light"
          }
        }
      ]
    },
    {
      "cell_type": "code",
      "source": [
        " "
      ],
      "metadata": {
        "id": "M1yoa81t-ovt"
      },
      "execution_count": null,
      "outputs": []
    },
    {
      "cell_type": "code",
      "source": [
        ""
      ],
      "metadata": {
        "id": "HjLgnHaeFEik"
      },
      "execution_count": null,
      "outputs": []
    }
  ],
  "metadata": {
    "interpreter": {
      "hash": "4c1d7bd8f0522e51d3b5d5accd60b7a7788058f55c509acba6a1ad25299fc865"
    },
    "kernelspec": {
      "display_name": "Python 3.7.10 ('cga')",
      "language": "python",
      "name": "python3"
    },
    "language_info": {
      "codemirror_mode": {
        "name": "ipython",
        "version": 3
      },
      "file_extension": ".py",
      "mimetype": "text/x-python",
      "name": "python",
      "nbconvert_exporter": "python",
      "pygments_lexer": "ipython3",
      "version": "3.7.10"
    },
    "orig_nbformat": 4,
    "colab": {
      "name": "EE5150_TCP_Simulation_Project.ipynb",
      "provenance": [],
      "collapsed_sections": []
    }
  },
  "nbformat": 4,
  "nbformat_minor": 0
}